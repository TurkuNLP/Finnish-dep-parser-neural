{
  "nbformat": 4,
  "nbformat_minor": 0,
  "metadata": {
    "colab": {
      "name": "tnpp-diaparse.ipynb",
      "provenance": [],
      "authorship_tag": "ABX9TyNY26XS8uPJxWmqTTKojKnH",
      "include_colab_link": true
    },
    "kernelspec": {
      "name": "python3",
      "display_name": "Python 3"
    },
    "language_info": {
      "name": "python"
    }
  },
  "cells": [
    {
      "cell_type": "markdown",
      "metadata": {
        "id": "view-in-github",
        "colab_type": "text"
      },
      "source": [
        "<a href=\"https://colab.research.google.com/github/TurkuNLP/Turku-neural-parser-pipeline/blob/diaparser/docs/tnpp_diaparse.ipynb\" target=\"_parent\"><img src=\"https://colab.research.google.com/assets/colab-badge.svg\" alt=\"Open In Colab\"/></a>"
      ]
    },
    {
      "cell_type": "markdown",
      "metadata": {
        "id": "lhS5gcnQMUUX"
      },
      "source": [
        "# Turku Neural Parser Pipeline\n",
        "\n",
        "* A mini-tutorial of the latest version of the pipeline"
      ]
    },
    {
      "cell_type": "markdown",
      "metadata": {
        "id": "9sOFiRoqJ7fw"
      },
      "source": [
        "# INSTALL\n",
        "\n",
        "* git clone the code\n",
        "* cd to the directory\n",
        "* and install all requirements"
      ]
    },
    {
      "cell_type": "code",
      "metadata": {
        "colab": {
          "base_uri": "https://localhost:8080/"
        },
        "id": "KKPUaw73JEwK",
        "outputId": "dd5b6d5f-83b0-4685-bf58-9366bae7f87a"
      },
      "source": [
        "!git clone -b diaparser https://github.com/TurkuNLP/Turku-neural-parser-pipeline.git\n",
        "%cd Turku-neural-parser-pipeline"
      ],
      "execution_count": 1,
      "outputs": [
        {
          "output_type": "stream",
          "text": [
            "Cloning into 'Turku-neural-parser-pipeline'...\n",
            "remote: Enumerating objects: 1032, done.\u001b[K\n",
            "remote: Counting objects: 100% (73/73), done.\u001b[K\n",
            "remote: Compressing objects: 100% (59/59), done.\u001b[K\n",
            "remote: Total 1032 (delta 34), reused 35 (delta 14), pack-reused 959\u001b[K\n",
            "Receiving objects: 100% (1032/1032), 286.97 KiB | 1.56 MiB/s, done.\n",
            "Resolving deltas: 100% (592/592), done.\n",
            "/content/Turku-neural-parser-pipeline\n"
          ],
          "name": "stdout"
        }
      ]
    },
    {
      "cell_type": "code",
      "metadata": {
        "colab": {
          "base_uri": "https://localhost:8080/"
        },
        "id": "ok1lM5IOJmU3",
        "outputId": "bda795fa-870d-40de-8f02-13cc73060b62"
      },
      "source": [
        "!python3 -m pip install -r requirements.txt"
      ],
      "execution_count": 2,
      "outputs": [
        {
          "output_type": "stream",
          "text": [
            "Requirement already satisfied: wheel in /usr/local/lib/python3.7/dist-packages (from -r requirements.txt (line 1)) (0.36.2)\n",
            "Requirement already satisfied: requests in /usr/local/lib/python3.7/dist-packages (from -r requirements.txt (line 2)) (2.23.0)\n",
            "Requirement already satisfied: flask in /usr/local/lib/python3.7/dist-packages (from -r requirements.txt (line 3)) (1.1.4)\n",
            "Requirement already satisfied: numpy in /usr/local/lib/python3.7/dist-packages (from -r requirements.txt (line 4)) (1.19.5)\n",
            "Collecting ufal.udpipe\n",
            "\u001b[?25l  Downloading https://files.pythonhosted.org/packages/e5/72/2b8b9dc7c80017c790bb3308bbad34b57accfed2ac2f1f4ab252ff4e9cb2/ufal.udpipe-1.2.0.3.tar.gz (304kB)\n",
            "\r\u001b[K     |█                               | 10kB 16.7MB/s eta 0:00:01\r\u001b[K     |██▏                             | 20kB 23.5MB/s eta 0:00:01\r\u001b[K     |███▎                            | 30kB 19.2MB/s eta 0:00:01\r\u001b[K     |████▎                           | 40kB 17.3MB/s eta 0:00:01\r\u001b[K     |█████▍                          | 51kB 9.0MB/s eta 0:00:01\r\u001b[K     |██████▌                         | 61kB 9.3MB/s eta 0:00:01\r\u001b[K     |███████▌                        | 71kB 9.3MB/s eta 0:00:01\r\u001b[K     |████████▋                       | 81kB 10.3MB/s eta 0:00:01\r\u001b[K     |█████████▊                      | 92kB 10.7MB/s eta 0:00:01\r\u001b[K     |██████████▊                     | 102kB 8.6MB/s eta 0:00:01\r\u001b[K     |███████████▉                    | 112kB 8.6MB/s eta 0:00:01\r\u001b[K     |█████████████                   | 122kB 8.6MB/s eta 0:00:01\r\u001b[K     |██████████████                  | 133kB 8.6MB/s eta 0:00:01\r\u001b[K     |███████████████                 | 143kB 8.6MB/s eta 0:00:01\r\u001b[K     |████████████████▏               | 153kB 8.6MB/s eta 0:00:01\r\u001b[K     |█████████████████▎              | 163kB 8.6MB/s eta 0:00:01\r\u001b[K     |██████████████████▎             | 174kB 8.6MB/s eta 0:00:01\r\u001b[K     |███████████████████▍            | 184kB 8.6MB/s eta 0:00:01\r\u001b[K     |████████████████████▌           | 194kB 8.6MB/s eta 0:00:01\r\u001b[K     |█████████████████████▌          | 204kB 8.6MB/s eta 0:00:01\r\u001b[K     |██████████████████████▋         | 215kB 8.6MB/s eta 0:00:01\r\u001b[K     |███████████████████████▊        | 225kB 8.6MB/s eta 0:00:01\r\u001b[K     |████████████████████████▉       | 235kB 8.6MB/s eta 0:00:01\r\u001b[K     |█████████████████████████▉      | 245kB 8.6MB/s eta 0:00:01\r\u001b[K     |███████████████████████████     | 256kB 8.6MB/s eta 0:00:01\r\u001b[K     |████████████████████████████    | 266kB 8.6MB/s eta 0:00:01\r\u001b[K     |█████████████████████████████   | 276kB 8.6MB/s eta 0:00:01\r\u001b[K     |██████████████████████████████▏ | 286kB 8.6MB/s eta 0:00:01\r\u001b[K     |███████████████████████████████▎| 296kB 8.6MB/s eta 0:00:01\r\u001b[K     |████████████████████████████████| 307kB 8.6MB/s \n",
            "\u001b[?25hRequirement already satisfied: pyyaml in /usr/local/lib/python3.7/dist-packages (from -r requirements.txt (line 6)) (3.13)\n",
            "Collecting configargparse\n",
            "  Downloading https://files.pythonhosted.org/packages/e8/a2/b6947a20b67c64b080b999badd231ff4785d1c709a66cfaf8d5e70811a14/ConfigArgParse-1.4.1-py3-none-any.whl\n",
            "Collecting transformers\n",
            "\u001b[?25l  Downloading https://files.pythonhosted.org/packages/d5/43/cfe4ee779bbd6a678ac6a97c5a5cdeb03c35f9eaebbb9720b036680f9a2d/transformers-4.6.1-py3-none-any.whl (2.2MB)\n",
            "\u001b[K     |████████████████████████████████| 2.3MB 40.6MB/s \n",
            "\u001b[?25hRequirement already satisfied: torch in /usr/local/lib/python3.7/dist-packages (from -r requirements.txt (line 9)) (1.8.1+cu101)\n",
            "Collecting OpenNMT-py>=1.2.0\n",
            "\u001b[?25l  Downloading https://files.pythonhosted.org/packages/e9/23/c565e03ddffb57db1b79bd9a97c8f56895eea094d9314ba5b12ce1282593/OpenNMT_py-2.1.2-py3-none-any.whl (212kB)\n",
            "\u001b[K     |████████████████████████████████| 215kB 46.1MB/s \n",
            "\u001b[?25hCollecting diaparser\n",
            "\u001b[?25l  Downloading https://files.pythonhosted.org/packages/bc/01/87045f78632ac8408b92e834d3ea36793cdd8bbb21c87bdd3c6804d7f608/diaparser-1.1.2-py3-none-any.whl (69kB)\n",
            "\u001b[K     |████████████████████████████████| 71kB 10.3MB/s \n",
            "\u001b[?25hRequirement already satisfied: certifi>=2017.4.17 in /usr/local/lib/python3.7/dist-packages (from requests->-r requirements.txt (line 2)) (2020.12.5)\n",
            "Requirement already satisfied: idna<3,>=2.5 in /usr/local/lib/python3.7/dist-packages (from requests->-r requirements.txt (line 2)) (2.10)\n",
            "Requirement already satisfied: urllib3!=1.25.0,!=1.25.1,<1.26,>=1.21.1 in /usr/local/lib/python3.7/dist-packages (from requests->-r requirements.txt (line 2)) (1.24.3)\n",
            "Requirement already satisfied: chardet<4,>=3.0.2 in /usr/local/lib/python3.7/dist-packages (from requests->-r requirements.txt (line 2)) (3.0.4)\n",
            "Requirement already satisfied: Werkzeug<2.0,>=0.15 in /usr/local/lib/python3.7/dist-packages (from flask->-r requirements.txt (line 3)) (1.0.1)\n",
            "Requirement already satisfied: itsdangerous<2.0,>=0.24 in /usr/local/lib/python3.7/dist-packages (from flask->-r requirements.txt (line 3)) (1.1.0)\n",
            "Requirement already satisfied: Jinja2<3.0,>=2.10.1 in /usr/local/lib/python3.7/dist-packages (from flask->-r requirements.txt (line 3)) (2.11.3)\n",
            "Requirement already satisfied: click<8.0,>=5.1 in /usr/local/lib/python3.7/dist-packages (from flask->-r requirements.txt (line 3)) (7.1.2)\n",
            "Requirement already satisfied: regex!=2019.12.17 in /usr/local/lib/python3.7/dist-packages (from transformers->-r requirements.txt (line 8)) (2019.12.20)\n",
            "Requirement already satisfied: tqdm>=4.27 in /usr/local/lib/python3.7/dist-packages (from transformers->-r requirements.txt (line 8)) (4.41.1)\n",
            "Collecting tokenizers<0.11,>=0.10.1\n",
            "\u001b[?25l  Downloading https://files.pythonhosted.org/packages/d4/e2/df3543e8ffdab68f5acc73f613de9c2b155ac47f162e725dcac87c521c11/tokenizers-0.10.3-cp37-cp37m-manylinux_2_5_x86_64.manylinux1_x86_64.manylinux_2_12_x86_64.manylinux2010_x86_64.whl (3.3MB)\n",
            "\u001b[K     |████████████████████████████████| 3.3MB 43.9MB/s \n",
            "\u001b[?25hRequirement already satisfied: packaging in /usr/local/lib/python3.7/dist-packages (from transformers->-r requirements.txt (line 8)) (20.9)\n",
            "Collecting sacremoses\n",
            "\u001b[?25l  Downloading https://files.pythonhosted.org/packages/75/ee/67241dc87f266093c533a2d4d3d69438e57d7a90abb216fa076e7d475d4a/sacremoses-0.0.45-py3-none-any.whl (895kB)\n",
            "\u001b[K     |████████████████████████████████| 901kB 50.8MB/s \n",
            "\u001b[?25hCollecting huggingface-hub==0.0.8\n",
            "  Downloading https://files.pythonhosted.org/packages/a1/88/7b1e45720ecf59c6c6737ff332f41c955963090a18e72acbcbeac6b25e86/huggingface_hub-0.0.8-py3-none-any.whl\n",
            "Requirement already satisfied: importlib-metadata; python_version < \"3.8\" in /usr/local/lib/python3.7/dist-packages (from transformers->-r requirements.txt (line 8)) (4.0.1)\n",
            "Requirement already satisfied: filelock in /usr/local/lib/python3.7/dist-packages (from transformers->-r requirements.txt (line 8)) (3.0.12)\n",
            "Requirement already satisfied: typing-extensions in /usr/local/lib/python3.7/dist-packages (from torch->-r requirements.txt (line 9)) (3.7.4.3)\n",
            "Collecting torchtext==0.5.0\n",
            "\u001b[?25l  Downloading https://files.pythonhosted.org/packages/79/ef/54b8da26f37787f5c670ae2199329e7dccf195c060b25628d99e587dac51/torchtext-0.5.0-py3-none-any.whl (73kB)\n",
            "\u001b[K     |████████████████████████████████| 81kB 12.3MB/s \n",
            "\u001b[?25hRequirement already satisfied: tensorboard<3,>=2.3 in /usr/local/lib/python3.7/dist-packages (from OpenNMT-py>=1.2.0->-r requirements.txt (line 10)) (2.5.0)\n",
            "Collecting waitress==1.4.4\n",
            "\u001b[?25l  Downloading https://files.pythonhosted.org/packages/26/d1/5209fb8c764497a592363c47054436a515b47b8c3e4970ddd7184f088857/waitress-1.4.4-py2.py3-none-any.whl (58kB)\n",
            "\u001b[K     |████████████████████████████████| 61kB 9.6MB/s \n",
            "\u001b[?25hCollecting pyonmttok<2,>=1.23; platform_system == \"Linux\" or platform_system == \"Darwin\"\n",
            "\u001b[?25l  Downloading https://files.pythonhosted.org/packages/5c/0c/bad1d4c1c42885f89ef7e9697534af17906e59fc6703872b2a3a52d7c06f/pyonmttok-1.26.2-cp37-cp37m-manylinux1_x86_64.whl (14.3MB)\n",
            "\u001b[K     |████████████████████████████████| 14.3MB 285kB/s \n",
            "\u001b[?25hCollecting stanza\n",
            "\u001b[?25l  Downloading https://files.pythonhosted.org/packages/2d/f3/cd7eaacabcec195a1c6c07b08cf1587b9f3f8754feba5c87d28867d75671/stanza-1.2.1-py3-none-any.whl (334kB)\n",
            "\u001b[K     |████████████████████████████████| 337kB 39.9MB/s \n",
            "\u001b[?25hRequirement already satisfied: nltk in /usr/local/lib/python3.7/dist-packages (from diaparser->-r requirements.txt (line 11)) (3.2.5)\n",
            "Requirement already satisfied: MarkupSafe>=0.23 in /usr/local/lib/python3.7/dist-packages (from Jinja2<3.0,>=2.10.1->flask->-r requirements.txt (line 3)) (2.0.1)\n",
            "Requirement already satisfied: pyparsing>=2.0.2 in /usr/local/lib/python3.7/dist-packages (from packaging->transformers->-r requirements.txt (line 8)) (2.4.7)\n",
            "Requirement already satisfied: six in /usr/local/lib/python3.7/dist-packages (from sacremoses->transformers->-r requirements.txt (line 8)) (1.15.0)\n",
            "Requirement already satisfied: joblib in /usr/local/lib/python3.7/dist-packages (from sacremoses->transformers->-r requirements.txt (line 8)) (1.0.1)\n",
            "Requirement already satisfied: zipp>=0.5 in /usr/local/lib/python3.7/dist-packages (from importlib-metadata; python_version < \"3.8\"->transformers->-r requirements.txt (line 8)) (3.4.1)\n",
            "Collecting sentencepiece\n",
            "\u001b[?25l  Downloading https://files.pythonhosted.org/packages/f5/99/e0808cb947ba10f575839c43e8fafc9cc44e4a7a2c8f79c60db48220a577/sentencepiece-0.1.95-cp37-cp37m-manylinux2014_x86_64.whl (1.2MB)\n",
            "\u001b[K     |████████████████████████████████| 1.2MB 37.6MB/s \n",
            "\u001b[?25hRequirement already satisfied: tensorboard-plugin-wit>=1.6.0 in /usr/local/lib/python3.7/dist-packages (from tensorboard<3,>=2.3->OpenNMT-py>=1.2.0->-r requirements.txt (line 10)) (1.8.0)\n",
            "Requirement already satisfied: absl-py>=0.4 in /usr/local/lib/python3.7/dist-packages (from tensorboard<3,>=2.3->OpenNMT-py>=1.2.0->-r requirements.txt (line 10)) (0.12.0)\n",
            "Requirement already satisfied: markdown>=2.6.8 in /usr/local/lib/python3.7/dist-packages (from tensorboard<3,>=2.3->OpenNMT-py>=1.2.0->-r requirements.txt (line 10)) (3.3.4)\n",
            "Requirement already satisfied: grpcio>=1.24.3 in /usr/local/lib/python3.7/dist-packages (from tensorboard<3,>=2.3->OpenNMT-py>=1.2.0->-r requirements.txt (line 10)) (1.34.1)\n",
            "Requirement already satisfied: setuptools>=41.0.0 in /usr/local/lib/python3.7/dist-packages (from tensorboard<3,>=2.3->OpenNMT-py>=1.2.0->-r requirements.txt (line 10)) (57.0.0)\n",
            "Requirement already satisfied: protobuf>=3.6.0 in /usr/local/lib/python3.7/dist-packages (from tensorboard<3,>=2.3->OpenNMT-py>=1.2.0->-r requirements.txt (line 10)) (3.12.4)\n",
            "Requirement already satisfied: google-auth-oauthlib<0.5,>=0.4.1 in /usr/local/lib/python3.7/dist-packages (from tensorboard<3,>=2.3->OpenNMT-py>=1.2.0->-r requirements.txt (line 10)) (0.4.4)\n",
            "Requirement already satisfied: google-auth<2,>=1.6.3 in /usr/local/lib/python3.7/dist-packages (from tensorboard<3,>=2.3->OpenNMT-py>=1.2.0->-r requirements.txt (line 10)) (1.30.0)\n",
            "Requirement already satisfied: tensorboard-data-server<0.7.0,>=0.6.0 in /usr/local/lib/python3.7/dist-packages (from tensorboard<3,>=2.3->OpenNMT-py>=1.2.0->-r requirements.txt (line 10)) (0.6.1)\n",
            "Requirement already satisfied: requests-oauthlib>=0.7.0 in /usr/local/lib/python3.7/dist-packages (from google-auth-oauthlib<0.5,>=0.4.1->tensorboard<3,>=2.3->OpenNMT-py>=1.2.0->-r requirements.txt (line 10)) (1.3.0)\n",
            "Requirement already satisfied: cachetools<5.0,>=2.0.0 in /usr/local/lib/python3.7/dist-packages (from google-auth<2,>=1.6.3->tensorboard<3,>=2.3->OpenNMT-py>=1.2.0->-r requirements.txt (line 10)) (4.2.2)\n",
            "Requirement already satisfied: rsa<5,>=3.1.4; python_version >= \"3.6\" in /usr/local/lib/python3.7/dist-packages (from google-auth<2,>=1.6.3->tensorboard<3,>=2.3->OpenNMT-py>=1.2.0->-r requirements.txt (line 10)) (4.7.2)\n",
            "Requirement already satisfied: pyasn1-modules>=0.2.1 in /usr/local/lib/python3.7/dist-packages (from google-auth<2,>=1.6.3->tensorboard<3,>=2.3->OpenNMT-py>=1.2.0->-r requirements.txt (line 10)) (0.2.8)\n",
            "Requirement already satisfied: oauthlib>=3.0.0 in /usr/local/lib/python3.7/dist-packages (from requests-oauthlib>=0.7.0->google-auth-oauthlib<0.5,>=0.4.1->tensorboard<3,>=2.3->OpenNMT-py>=1.2.0->-r requirements.txt (line 10)) (3.1.0)\n",
            "Requirement already satisfied: pyasn1>=0.1.3 in /usr/local/lib/python3.7/dist-packages (from rsa<5,>=3.1.4; python_version >= \"3.6\"->google-auth<2,>=1.6.3->tensorboard<3,>=2.3->OpenNMT-py>=1.2.0->-r requirements.txt (line 10)) (0.4.8)\n",
            "Building wheels for collected packages: ufal.udpipe\n",
            "  Building wheel for ufal.udpipe (setup.py) ... \u001b[?25l\u001b[?25hdone\n",
            "  Created wheel for ufal.udpipe: filename=ufal.udpipe-1.2.0.3-cp37-cp37m-linux_x86_64.whl size=5626653 sha256=c9bf40c80923e6204307573dcb85022068a1ad2fbde09eb44dd14578ef982e69\n",
            "  Stored in directory: /root/.cache/pip/wheels/0c/9d/db/6d3404c33da5b7adb6c6972853efb6a27649d3ba15f7e9bebb\n",
            "Successfully built ufal.udpipe\n",
            "\u001b[31mERROR: opennmt-py 2.1.2 has requirement flask==1.1.2, but you'll have flask 1.1.4 which is incompatible.\u001b[0m\n",
            "\u001b[31mERROR: opennmt-py 2.1.2 has requirement pyyaml==5.4, but you'll have pyyaml 3.13 which is incompatible.\u001b[0m\n",
            "\u001b[31mERROR: opennmt-py 2.1.2 has requirement torch==1.6.0, but you'll have torch 1.8.1+cu101 which is incompatible.\u001b[0m\n",
            "\u001b[31mERROR: opennmt-py 2.1.2 has requirement tqdm<5,>=4.51, but you'll have tqdm 4.41.1 which is incompatible.\u001b[0m\n",
            "\u001b[31mERROR: diaparser 1.1.2 has requirement numpy==1.19.4, but you'll have numpy 1.19.5 which is incompatible.\u001b[0m\n",
            "Installing collected packages: ufal.udpipe, configargparse, tokenizers, sacremoses, huggingface-hub, transformers, sentencepiece, torchtext, waitress, pyonmttok, OpenNMT-py, stanza, diaparser\n",
            "  Found existing installation: torchtext 0.9.1\n",
            "    Uninstalling torchtext-0.9.1:\n",
            "      Successfully uninstalled torchtext-0.9.1\n",
            "Successfully installed OpenNMT-py-2.1.2 configargparse-1.4.1 diaparser-1.1.2 huggingface-hub-0.0.8 pyonmttok-1.26.2 sacremoses-0.0.45 sentencepiece-0.1.95 stanza-1.2.1 tokenizers-0.10.3 torchtext-0.5.0 transformers-4.6.1 ufal.udpipe-1.2.0.3 waitress-1.4.4\n"
          ],
          "name": "stdout"
        }
      ]
    },
    {
      "cell_type": "markdown",
      "metadata": {
        "id": "Wrsm2c8AKLeF"
      },
      "source": [
        "# FETCH MODEL\n",
        "\n",
        "* At present, only the Finnish model is available for the diaparser-based version of the pipeline\n",
        "* ...more to come..."
      ]
    },
    {
      "cell_type": "code",
      "metadata": {
        "colab": {
          "base_uri": "https://localhost:8080/"
        },
        "id": "UviA2z6DKWYv",
        "outputId": "c1b6d42a-94fd-4aa3-fe23-883b4237d97f"
      },
      "source": [
        "!python3 fetch_models.py fi_tdt_dia"
      ],
      "execution_count": 3,
      "outputs": [
        {
          "output_type": "stream",
          "text": [
            "Downloading from fi_tdt_dia and unpacking\n"
          ],
          "name": "stdout"
        }
      ]
    },
    {
      "cell_type": "markdown",
      "metadata": {
        "id": "X9gJOGYLKx6u"
      },
      "source": [
        "* The above command created the directory `models_fi_tdt_dia` with the model\n",
        "* The file `models_fi_tdt_dia/pipelines.yaml` defines all the possible pipelines for the parser in this model\n",
        "* Currently, only the `parse_plaintext` one works"
      ]
    },
    {
      "cell_type": "markdown",
      "metadata": {
        "id": "uWztsJw8LIeY"
      },
      "source": [
        "# PARSE IN PYTHON\n",
        "\n",
        "* You need to load and start the pipeline of choice\n",
        "* Like so:"
      ]
    },
    {
      "cell_type": "code",
      "metadata": {
        "colab": {
          "base_uri": "https://localhost:8080/"
        },
        "id": "9p6um1idLVun",
        "outputId": "2f80845a-d04e-43b0-8068-cb36f32c266d"
      },
      "source": [
        "from tnparser.pipeline import read_pipelines, Pipeline\n",
        "\n",
        "text1=\"Minulla on söpö koira. Se haukkuu, syö makkaraa,\\\n",
        "  jahtaa oravia ja tsillailee kanssani!\"\n",
        "\n",
        "\n",
        "# What pipelines do we have for the Finnish model?\n",
        "available_pipelines=read_pipelines(\"models_fi_tdt_dia/pipelines.yaml\")               # {pipeline_name -> its steps}\n",
        "# This is a dictionary, its keys are the pipelines\n",
        "print(list(available_pipelines.keys()))\n",
        "# Instantiate one of the pipelines\n",
        "p=Pipeline(available_pipelines[\"parse_plaintext\"])    "
      ],
      "execution_count": 4,
      "outputs": [
        {
          "output_type": "stream",
          "text": [
            "['parse_plaintext', 'parse_sentlines', 'parse_wslines', 'parse_conllu', 'tokenize', 'parse_noisytext']\n"
          ],
          "name": "stdout"
        }
      ]
    },
    {
      "cell_type": "code",
      "metadata": {
        "colab": {
          "base_uri": "https://localhost:8080/"
        },
        "id": "ECKlN3bgMBf9",
        "outputId": "69ae630b-3a49-4c56-8d8d-ff650c2dfee9"
      },
      "source": [
        "print(p.parse(text1))"
      ],
      "execution_count": 5,
      "outputs": [
        {
          "output_type": "stream",
          "text": [
            "# newdoc\n",
            "# newpar\n",
            "# sent_id = 1\n",
            "# text = Minulla on söpö koira.\n",
            "1\tMinulla\t_\t_\t_\t_\t0\troot\t_\t_\n",
            "2\ton\t_\t_\t_\t_\t1\tcop:own\t_\t_\n",
            "3\tsöpö\t_\t_\t_\t_\t4\tamod\t_\t_\n",
            "4\tkoira\t_\t_\t_\t_\t1\tnsubj:cop\t_\t_\n",
            "5\t.\t_\t_\t_\t_\t1\tpunct\t_\t_\n",
            "\n",
            "# sent_id = 2\n",
            "# text = Se haukkuu, syö makkaraa, jahtaa oravia ja tsillailee kanssani!\n",
            "1\tSe\t_\t_\t_\t_\t2\tnsubj\t_\t_\n",
            "2\thaukkuu\t_\t_\t_\t_\t0\troot\t_\t_\n",
            "3\t,\t_\t_\t_\t_\t4\tpunct\t_\t_\n",
            "4\tsyö\t_\t_\t_\t_\t2\tconj\t_\t_\n",
            "5\tmakkaraa\t_\t_\t_\t_\t4\tobj\t_\t_\n",
            "6\t,\t_\t_\t_\t_\t7\tpunct\t_\t_\n",
            "7\tjahtaa\t_\t_\t_\t_\t2\tconj\t_\t_\n",
            "8\toravia\t_\t_\t_\t_\t7\tobj\t_\t_\n",
            "9\tja\t_\t_\t_\t_\t10\tcc\t_\t_\n",
            "10\ttsillailee\t_\t_\t_\t_\t2\tconj\t_\t_\n",
            "11\tkanssani\t_\t_\t_\t_\t10\tadvmod\t_\t_\n",
            "12\t!\t_\t_\t_\t_\t2\tpunct\t_\t_\n",
            "\n"
          ],
          "name": "stdout"
        }
      ]
    }
  ]
}